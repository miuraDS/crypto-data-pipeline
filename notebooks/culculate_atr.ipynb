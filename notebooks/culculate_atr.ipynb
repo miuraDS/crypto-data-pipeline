{
 "cells": [
  {
   "cell_type": "markdown",
   "id": "258e286f-6512-4ddd-9ef4-270160a11d46",
   "metadata": {},
   "source": [
    "# 必要なライブラリのインポート"
   ]
  },
  {
   "cell_type": "code",
   "execution_count": null,
   "id": "01fbde06-c139-41ed-a515-976357874789",
   "metadata": {},
   "outputs": [],
   "source": [
    "import pandas as pd\n",
    "from pathlib import Path\n",
    "import glob\n",
    "import os\n",
    "\n",
    "pd.set_option(\"display.max_columns\", None)"
   ]
  },
  {
   "cell_type": "markdown",
   "id": "70c06243",
   "metadata": {},
   "source": [
    "# パラメータ管理"
   ]
  },
  {
   "cell_type": "code",
   "execution_count": null,
   "id": "b373caa6",
   "metadata": {},
   "outputs": [],
   "source": [
    "# データフォルダの指定\n",
    "data_folder = Path(\"../data/ohlcv\")\n",
    "\n",
    "# 最新のOHLCV Parquetファイルを取得\n",
    "list_of_files = glob.glob(os.path.join(data_folder, 'df_ohlcv_*.parquet'))\n",
    "if not list_of_files:\n",
    "    raise FileNotFoundError(f\"No ohlcv parquet files found in {data_folder}\")\n",
    "latest_file = max(list_of_files, key=os.path.getctime)\n",
    "ohlcv_file_path = Path(latest_file)\n",
    "\n",
    "# 出力ファイルパスの生成\n",
    "output_filename = ohlcv_file_path.stem.replace('_atr', '') + '_atr.parquet'\n",
    "output_ohlcv_file_path = data_folder / output_filename\n",
    "\n",
    "# ATRの計算期間\n",
    "window_size = 14\n",
    "\n",
    "print(f\"Input file: {ohlcv_file_path}\")\n",
    "print(f\"Output file: {output_ohlcv_file_path}\")"
   ]
  },
  {
   "cell_type": "markdown",
   "id": "e8a6f3c7",
   "metadata": {},
   "source": [
    "# ATRの計算"
   ]
  },
  {
   "cell_type": "code",
   "execution_count": null,
   "id": "89328efb",
   "metadata": {},
   "outputs": [],
   "source": [
    "def calculate_atr(ohlcv_df: pd.DataFrame, window_size: int) -> pd.DataFrame:\n",
    "    df = ohlcv_df.copy()\n",
    "\n",
    "    # 正しいカラム名が存在するか確認 (op, hi, lo, cl)\n",
    "    required_cols = {'op', 'hi', 'lo', 'cl'}\n",
    "    if not required_cols.issubset(df.columns):\n",
    "        raise ValueError(f\"Input DataFrame must contain columns: {required_cols}\")\n",
    "\n",
    "    # True Rangeの計算\n",
    "    df['tr1'] = df['hi'] - df['lo']\n",
    "    df['tr2'] = abs(df['hi'] - df['cl'].shift(1))\n",
    "    df['tr3'] = abs(df['lo'] - df['cl'].shift(1))\n",
    "    df['tr'] = df[['tr1', 'tr2', 'tr3']].max(axis=1)\n",
    "\n",
    "    # ATRの計算 (Simple Moving Average)\n",
    "    df['atr'] = df['tr'].rolling(window=window_size).mean()\n",
    "\n",
    "    # 不要な中間カラムを削除\n",
    "    df = df.drop(columns=['tr1', 'tr2', 'tr3', 'tr'])\n",
    "    \n",
    "    # ATR計算初期のNaN値を削除\n",
    "    df = df.dropna(subset=['atr'])\n",
    "\n",
    "    return df"
   ]
  },
  {
   "cell_type": "markdown",
   "id": "a5b1f3b2",
   "metadata": {},
   "source": [
    "# メイン処理"
   ]
  },
  {
   "cell_type": "code",
   "execution_count": null,
   "id": "b170757e",
   "metadata": {},
   "outputs": [],
   "source": [
    "# データの読み込み\n",
    "ohlcv_df = pd.read_parquet(ohlcv_file_path)\n",
    "\n",
    "# ATRの計算\n",
    "ohlcv_df_with_atr = calculate_atr(ohlcv_df=ohlcv_df, window_size=window_size)\n",
    "\n",
    "# ファイルに保存\n",
    "ohlcv_df_with_atr.to_parquet(output_ohlcv_file_path)\n",
    "\n",
    "print(\"Processing complete.\")\n",
    "print(f\"{len(ohlcv_df_with_atr)} rows saved to {output_ohlcv_file_path}\")\n",
    "\n",
    "print(\"--- Head ---\")\n",
    "print(ohlcv_df_with_atr.head())\n",
    "print(\"--- Tail ---\")\n",
    "print(ohlcv_df_with_atr.tail())"
   ]
  }
 ],
 "metadata": {
  "kernelspec": {
   "display_name": "Python 3 (ipykernel)",
   "language": "python",
   "name": "python3"
  },
  "language_info": {
   "codemirror_mode": {
    "name": "ipython",
    "version": 3
   },
   "file_extension": ".py",
   "mimetype": "text/x-python",
   "name": "python",
   "nbconvert_exporter": "python",
   "pygments_lexer": "ipython3",
   "version": "3.11.0"
  }
 },
 "nbformat": 4,
 "nbformat_minor": 5
}