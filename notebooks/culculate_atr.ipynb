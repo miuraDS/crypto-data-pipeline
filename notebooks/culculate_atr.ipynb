{
 "cells": [
  {
   "cell_type": "markdown",
   "id": "258e286f-6512-4ddd-9ef4-270160a11d46",
   "metadata": {},
   "source": [
    "# 必要なライブラリのインポート\n",
    "\n",
    "以下のコードでは必要なライブラリをインポートしています。"
   ]
  },
  {
   "cell_type": "code",
   "execution_count": 1,
   "id": "01fbde06-c139-41ed-a515-976357874789",
   "metadata": {},
   "outputs": [],
   "source": [
    "from decimal import Decimal\n",
    "\n",
    "\n",
    "# # 日本語フォントを設定（例：IPAexGothic）\n",
    "# matplotlib.rcParams[\"font.family\"] = \"IPAexGothic\"\n",
    "import pandas as pd\n",
    "# 表示設定：すべてのカラムを表示\n",
    "pd.set_option(\"display.max_columns\", None)\n",
    "from pathlib import Path"
   ]
  },
  {
   "cell_type": "markdown",
   "id": "70c06243",
   "metadata": {},
   "source": [
    "# パラメータ管理"
   ]
  },
  {
   "cell_type": "code",
   "execution_count": 2,
   "id": "b373caa6",
   "metadata": {},
   "outputs": [],
   "source": [
    "\n",
    "# fetcher = GmoFetcher(memory=memory)\n",
    "data_folder = Path(\"../data/ohlcv\")\n",
    "data_folder.mkdir(parents=True, exist_ok=True)\n",
    "\n",
    "file_name = \"df_ohlcv_BTC_1min_20250904\"\n",
    "# ohlcvデータのパス\n",
    "ohlcv_file_path = data_folder / f'{file_name}.parquet'\n",
    "\n",
    "# 出力ohlcvデータのパス\n",
    "output_ohlcv_file_path = data_folder / f'{file_name}_preprocessed.parquet'\n",
    "\n",
    "window_size = 14  # ウィンドウサイズ"
   ]
  },
  {
   "cell_type": "code",
   "execution_count": 3,
   "id": "15395fb0",
   "metadata": {},
   "outputs": [],
   "source": [
    "def load_ohlcv(output_ohlcv_file_path: Path) -> pd.DataFrame:\n",
    "    # order_logの読み込み\n",
    "    print(\"load_dataframes\")\n",
    "\n",
    "    ohlcv_df = pd.read_parquet(output_ohlcv_file_path)\n",
    "\n",
    "\n",
    "    return ohlcv_df"
   ]
  },
  {
   "cell_type": "code",
   "execution_count": 4,
   "id": "89328efb",
   "metadata": {},
   "outputs": [],
   "source": [
    "def culculate_atr(ohlcv_df:pd.DataFrame, window_size:int) -> pd.DataFrame:\n",
    "\n",
    "    df = ohlcv_df.copy()\n",
    "\n",
    "    # 前日終値を計算\n",
    "    # df[\"prev_close\"] = df[\"close\"]\n",
    "    df[\"prev_close\"] = df[\"cl\"]\n",
    "\n",
    "    # True Range（3通り）の最大値\n",
    "    df[\"tr\"] = pd.concat([\n",
    "        (df[\"hi\"] - df[\"lo\"]),\n",
    "        (df[\"hi\"] - df[\"prev_close\"]).abs(),\n",
    "        (df[\"lo\"] - df[\"prev_close\"]).abs()\n",
    "    ], axis=1).max(axis=1)\n",
    "\n",
    "    # 14期間ATR（floatで計算）\n",
    "    df[\"atr_float\"] = df[\"tr\"]\n",
    "\n",
    "    # 欠損処理（どちらかを選択）\n",
    "    # 方法① 欠損を削除\n",
    "    # df = df.dropna(subset=[\"atr_float\"])\n",
    "\n",
    "    # 方法② 後ろの値で埋める（またはゼロなど）\n",
    "    df[\"atr_float\"] = df[\"atr_float\"]\n",
    "\n",
    "    # Decimal化したいなら\n",
    "    df[\"atr\"] = df[\"atr_float\"]\n",
    "\n",
    "    # 不要な中間列を削除（任意）\n",
    "    df = df.drop(columns=[\"prev_close\", \"tr\", \"atr_float\"])\n",
    "\n",
    "    return df"
   ]
  },
  {
   "cell_type": "code",
   "execution_count": 5,
   "id": "b170757e",
   "metadata": {},
   "outputs": [
    {
     "name": "stdout",
     "output_type": "stream",
     "text": [
      "load_dataframes\n"
     ]
    },
    {
     "name": "stderr",
     "output_type": "stream",
     "text": [
      "C:\\Users\\t-miura\\AppData\\Local\\Temp\\ipykernel_18764\\1442789412.py:24: FutureWarning: Series.fillna with 'method' is deprecated and will raise in a future version. Use obj.ffill() or obj.bfill() instead.\n",
      "  df[\"atr_float\"] = df[\"atr_float\"]\n"
     ]
    }
   ],
   "source": [
    "ohlcv_df = load_ohlcv(ohlcv_file_path)\n",
    "ohlcv_df_preprocessed = culculate_atr(ohlcv_df=ohlcv_df, window_size=window_size)\n",
    "if ohlcv_df_preprocessed.index.name == 'timestamp':\n",
    "    df_last = ohlcv_df_preprocessed.reset_index()\n",
    "\n",
    "ohlcv_df_preprocessed.to_parquet(output_ohlcv_file_path)"
   ]
  },
  {
   "cell_type": "code",
   "execution_count": null,
   "id": "832e93fb",
   "metadata": {},
   "outputs": [],
   "source": []
  },
  {
   "cell_type": "code",
   "execution_count": 6,
   "id": "638e5ac9",
   "metadata": {},
   "outputs": [
    {
     "name": "stdout",
     "output_type": "stream",
     "text": [
      "                                 op        hi        lo        cl  volume  \
",
      "timestamp                                                                   \n",
      "2018-09-05 08:05:00+00:00  817965.0  817965.0  816878.0  816878.0  0.0100   \n",
      "2018-09-05 08:56:00+00:00  818000.0  818000.0  818000.0  818000.0  0.0100   \n",
      "2018-09-05 09:00:00+00:00  818110.0  818110.0  818105.0  818105.0  0.0101   \n",
      "2018-09-05 09:01:00+00:00  818110.0  818110.0  818110.0  818110.0  0.0020   \n",
      "2018-09-05 09:03:00+00:00  818115.0  818115.0  818115.0  818115.0  0.0005   \n",
      "\n",
      "                                         atr  \n",
      "timestamp                                     \n",
      "2018-09-05 08:05:00+00:00  659.2857142857143  \n",
      "2018-09-05 08:56:00+00:00  659.2857142857143  \n",
      "2018-09-05 09:00:00+00:00  659.2857142857143  \n",
      "2018-09-05 09:01:00+00:00  659.2857142857143  \n",
      "2018-09-05 09:03:00+00:00  659.2857142857143  \n",
      "                                   op          hi          lo          cl  \
",
      "timestamp                                                                   \n",
      "2025-09-03 20:47:00+00:00  16625249.0  16629296.0  16625249.0  16629296.0   \n",
      "2025-09-03 20:49:00+00:00  16624734.0  16624734.0  16624734.0  16624734.0   \n",
      "2025-09-03 20:53:00+00:00  16627400.0  16627400.0  16627400.0  16627400.0   \n",
      "2025-09-03 20:55:00+00:00  16624500.0  16624500.0  16624500.0  16624500.0   \n",
      "2025-09-03 20:59:00+00:00  16631668.0  16631668.0  16631668.0  16631668.0   \n",
      "\n",
      "                           volume                atr  \n",
      "timestamp                                             \n",
      "2025-09-03 20:47:00+00:00  0.0100  4371.357142857143  \n",
      "2025-09-03 20:49:00+00:00  0.0012  4697.142857142857  \n",
      "2025-09-03 20:53:00+00:00  0.0003  4377.214285714285  \n",
      "2025-09-03 20:55:00+00:00  0.0020  4323.285714285715  \n",
      "2025-09-03 20:59:00+00:00  0.0001  4573.857142857143  \n"
     ]
    }
   ],
   "source": [
    "print(ohlcv_df_preprocessed.head())\n",
    "print(ohlcv_df_preprocessed.tail())"
   ]
  },
  {
   "cell_type": "code",
   "execution_count": null,
   "id": "a26fc8d3",
   "metadata": {},
   "outputs": [],
   "source": []
  }
 ],
 "metadata": {
  "kernelspec": {
   "display_name": "Python 3",
   "language": "python",
   "name": "python3"
  },
  "language_info": {
   "codemirror_mode": {
    "name": "ipython",
    "version": 3
   },
   "file_extension": ".py",
   "mimetype": "text/x-python",
   "name": "python",
   "nbconvert_exporter": "python",
   "pygments_lexer": "ipython3",
   "version": "3.12.6"
  },
  "pycharm": {
   "stem_cell": {
    "cell_type": "raw",
    "metadata": {
     "collapsed": false
    },
    "source": []
   }
  }
 },
 "nbformat": 4,
 "nbformat_minor": 5
}