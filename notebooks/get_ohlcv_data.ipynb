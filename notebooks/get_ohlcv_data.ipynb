{
 "cells": [
  {
   "cell_type": "markdown",
   "id": "258e286f-6512-4ddd-9ef4-270160a11d46",
   "metadata": {},
   "source": [
    "# 必要なライブラリのインポート"
   ]
  },
  {
   "cell_type": "code",
   "execution_count": null,
   "id": "01fbde06-c139-41ed-a515-976357874789",
   "metadata": {},
   "outputs": [],
   "source": [
    "import sys\n",
    "import os\n",
    "\n",
    "parent_dir = os.path.abspath(\"..\")\n",
    "sys.path.append(parent_dir)\n",
    "\n",
    "import ccxt\n",
    "from src.data_fetcher.gmo import GmoFetcher\n",
    "import joblib\n",
    "import tempfile\n",
    "import datetime\n",
    "import numpy as np\n",
    "import pandas as pd\n",
    "from pathlib import Path\n",
    "\n",
    "pd.set_option(\"display.max_columns\", None)"
   ]
  },
  {
   "cell_type": "markdown",
   "id": "70c06243",
   "metadata": {},
   "source": [
    "# パラメータ管理"
   ]
  },
  {
   "cell_type": "code",
   "execution_count": null,
   "id": "b373caa6",
   "metadata": {},
   "outputs": [],
   "source": [
    "# 日付設定\n",
    "today_utc = pd.Timestamp.utcnow().normalize()\n",
    "today_str = today_utc.strftime(\"%Y%m%d\")\n",
    "one_year_ago_utc = today_utc - pd.DateOffset(years=1)\n",
    "\n",
    "# 取得する通貨ペア\n",
    "market = \"SOL\"\n",
    "\n",
    "# データ取得の時間間隔（分）\n",
    "interval_min = 1\n",
    "\n",
    "# GMO Fetcherの初期化\n",
    "cache_dir = os.path.join(tempfile.gettempdir(), \"gmo_fetcher_cache\")\n",
    "memory = joblib.Memory(cache_dir, verbose=0)\n",
    "fetcher = GmoFetcher(memory=memory)\n",
    "\n",
    "# 保存先の設定\n",
    "data_folder = Path(\"../data/ohlcv\")\n",
    "data_folder.mkdir(parents=True, exist_ok=True)\n",
    "ohlcv_file_path = data_folder / f'df_ohlcv_{market}_{interval_min}min_{today_str}.parquet'"
   ]
  },
  {
   "cell_type": "markdown",
   "id": "5967e6fb-7345-4626-85ac-ee68ddac62f9",
   "metadata": {},
   "source": [
    "## データを用意\n",
    "\n",
    "GMOコインのAPIから取引データを取得し、OHLCV形式に変換します。"
   ]
  },
  {
   "cell_type": "code",
   "execution_count": null,
   "id": "a9134e11-84a3-411a-911b-d594a31c44ca",
   "metadata": {},
   "outputs": [],
   "source": [
    "df = fetcher.fetch_ohlcv(\n",
    "    market='BTC_JPY',\n",
    "    interval_sec=15 * 60,\n",
    ")"
   ]
  },
  {
   "cell_type": "code",
   "execution_count": null,
   "id": "85188e38-8e3a-4a8c-888a-c638a018f10b",
   "metadata": {},
   "outputs": [],
   "source": [
    "df"
   ]
  },
  {
   "cell_type": "markdown",
   "id": "a244a35a-908a-403c-80e2-e629f211604b",
   "metadata": {},
   "source": [
    "## ohlcvをファイルに保存"
   ]
  },
  {
   "cell_type": "code",
   "execution_count": null,
   "id": "2e91212d-a953-48b5-8490-a4a238158d5f",
   "metadata": {},
   "outputs": [],
   "source": [
    "df.to_parquet(ohlcv_file_path)"
   ]
  }
 ],
 "metadata": {
  "kernelspec": {
   "display_name": "Python 3 (ipykernel)",
   "language": "python",
   "name": "python3"
  },
  "language_info": {
   "codemirror_mode": {
    "name": "ipython",
    "version": 3
   },
   "file_extension": ".py",
   "mimetype": "text/x-python",
   "name": "python",
   "nbconvert_exporter": "python",
   "pygments_lexer": "ipython3",
   "version": "3.11.0"
  }
 },
 "nbformat": 4,
 "nbformat_minor": 5
}
